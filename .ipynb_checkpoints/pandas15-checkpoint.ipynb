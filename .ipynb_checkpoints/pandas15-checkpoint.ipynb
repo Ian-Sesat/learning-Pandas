{
 "cells": [
  {
   "cell_type": "code",
   "execution_count": 1,
   "id": "7cdd14a6",
   "metadata": {},
   "outputs": [
    {
     "data": {
      "text/plain": [
       "DatetimeIndex(['2022-07-01', '2022-07-04', '2022-07-05', '2022-07-06',\n",
       "               '2022-07-07', '2022-07-08', '2022-07-11', '2022-07-12',\n",
       "               '2022-07-13', '2022-07-14', '2022-07-15', '2022-07-18',\n",
       "               '2022-07-19', '2022-07-20', '2022-07-21', '2022-07-22',\n",
       "               '2022-07-25', '2022-07-26', '2022-07-27', '2022-07-28',\n",
       "               '2022-07-29'],\n",
       "              dtype='datetime64[ns]', freq='B')"
      ]
     },
     "execution_count": 1,
     "metadata": {},
     "output_type": "execute_result"
    }
   ],
   "source": [
    "import pandas as pd\n",
    "df=pd.date_range(start='7/1/2022',end='7/31/2022',freq='B')\n",
    "df"
   ]
  },
  {
   "cell_type": "code",
   "execution_count": 2,
   "id": "1381e5cf",
   "metadata": {},
   "outputs": [
    {
     "data": {
      "text/plain": [
       "DatetimeIndex(['2022-07-01', '2022-07-05', '2022-07-06', '2022-07-07',\n",
       "               '2022-07-08', '2022-07-11', '2022-07-12', '2022-07-13',\n",
       "               '2022-07-14', '2022-07-15', '2022-07-18', '2022-07-19',\n",
       "               '2022-07-20', '2022-07-21', '2022-07-22', '2022-07-25',\n",
       "               '2022-07-26', '2022-07-27', '2022-07-28', '2022-07-29'],\n",
       "              dtype='datetime64[ns]', freq='C')"
      ]
     },
     "execution_count": 2,
     "metadata": {},
     "output_type": "execute_result"
    }
   ],
   "source": [
    "from pandas.tseries.offsets import CustomBusinessDay\n",
    "from pandas.tseries.holiday import USFederalHolidayCalendar\n",
    "\n",
    "usb=CustomBusinessDay(calendar=USFederalHolidayCalendar())\n",
    "df=pd.date_range(start='7/1/2022',end='7/31/2022',freq=usb)\n",
    "df"
   ]
  },
  {
   "cell_type": "markdown",
   "id": "355f84d6",
   "metadata": {},
   "source": [
    "Making a code with the custom holidays for Mr Kenya:"
   ]
  },
  {
   "cell_type": "code",
   "execution_count": 14,
   "id": "fd9f7a87",
   "metadata": {},
   "outputs": [
    {
     "data": {
      "text/plain": [
       "DatetimeIndex(['2022-10-03', '2022-10-04', '2022-10-05', '2022-10-06',\n",
       "               '2022-10-07', '2022-10-10', '2022-10-11', '2022-10-12',\n",
       "               '2022-10-13', '2022-10-14', '2022-10-17', '2022-10-18',\n",
       "               '2022-10-19', '2022-10-20', '2022-10-24', '2022-10-25',\n",
       "               '2022-10-26', '2022-10-27', '2022-10-28', '2022-10-31'],\n",
       "              dtype='datetime64[ns]', freq='C')"
      ]
     },
     "execution_count": 14,
     "metadata": {},
     "output_type": "execute_result"
    }
   ],
   "source": [
    "from pandas.tseries.holiday import AbstractHolidayCalendar,nearest_workday,Holiday\n",
    "class KenyanOctoberCalendar(AbstractHolidayCalendar):\n",
    "    rules=[\n",
    "        Holiday('Mashujaa day',month=10,day=22,observance=nearest_workday),\n",
    "        \n",
    "    ]\n",
    "kc=CustomBusinessDay(calendar=KenyanOctoberCalendar())\n",
    "kd=pd.date_range(start='10/1/2022',end='10/31/2022',freq=kc)\n",
    "kd"
   ]
  },
  {
   "cell_type": "markdown",
   "id": "d08ac211",
   "metadata": {},
   "source": [
    "Making a code if business days are differnt ,maybe the business days are from Sunday to Thursday"
   ]
  },
  {
   "cell_type": "code",
   "execution_count": 21,
   "id": "7dd7cdfb",
   "metadata": {},
   "outputs": [
    {
     "data": {
      "text/plain": [
       "DatetimeIndex(['2022-10-02', '2022-10-03', '2022-10-04', '2022-10-05',\n",
       "               '2022-10-06', '2022-10-09', '2022-10-11', '2022-10-12',\n",
       "               '2022-10-13', '2022-10-16', '2022-10-17', '2022-10-18',\n",
       "               '2022-10-19', '2022-10-23', '2022-10-24', '2022-10-25',\n",
       "               '2022-10-26', '2022-10-27', '2022-10-30', '2022-10-31'],\n",
       "              dtype='datetime64[ns]', freq='C')"
      ]
     },
     "execution_count": 21,
     "metadata": {},
     "output_type": "execute_result"
    }
   ],
   "source": [
    "ec=CustomBusinessDay(weekmask='Sun Mon Tue Wed Thu ',holidays=['2022-10-10','2022-10-20'])\n",
    "rng=pd.date_range(start='10/1/2022',end='10/31/2022',freq=ec)\n",
    "rng"
   ]
  }
 ],
 "metadata": {
  "kernelspec": {
   "display_name": "Python 3 (ipykernel)",
   "language": "python",
   "name": "python3"
  },
  "language_info": {
   "codemirror_mode": {
    "name": "ipython",
    "version": 3
   },
   "file_extension": ".py",
   "mimetype": "text/x-python",
   "name": "python",
   "nbconvert_exporter": "python",
   "pygments_lexer": "ipython3",
   "version": "3.9.7"
  }
 },
 "nbformat": 4,
 "nbformat_minor": 5
}
